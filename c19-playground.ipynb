{
 "metadata": {
  "language_info": {
   "codemirror_mode": {
    "name": "ipython",
    "version": 3
   },
   "file_extension": ".py",
   "mimetype": "text/x-python",
   "name": "python",
   "nbconvert_exporter": "python",
   "pygments_lexer": "ipython3",
   "version": "3.9.5"
  },
  "orig_nbformat": 2,
  "kernelspec": {
   "name": "python395jvsc74a57bd0aee8b7b246df8f9039afb4144a1f6fd8d2ca17a180786b69acc140d282b71a49",
   "display_name": "Python 3.9.5 64-bit"
  },
  "metadata": {
   "interpreter": {
    "hash": "aee8b7b246df8f9039afb4144a1f6fd8d2ca17a180786b69acc140d282b71a49"
   }
  }
 },
 "nbformat": 4,
 "nbformat_minor": 2,
 "cells": [
  {
   "cell_type": "code",
   "execution_count": 389,
   "metadata": {},
   "outputs": [],
   "source": [
    "import os\n",
    "import json"
   ]
  },
  {
   "cell_type": "code",
   "execution_count": 7,
   "metadata": {},
   "outputs": [
    {
     "output_type": "stream",
     "name": "stdout",
     "text": [
      "1\n"
     ]
    }
   ],
   "source": [
    "demo_races = [ \"Black\", \"White\", \"Latinx\", \"Asian\", \"Multiracial\", \"Other\" ]\n",
    "demo_types = [ \"Cases_\", \"Deaths_\"]\n",
    "\n",
    "demo_race_cases = []\n",
    "race_dict = { \"Black\": {\n",
    "    \"cases\": 0, \n",
    "    \"deaths\": 0\n",
    "    } \n",
    "}\n",
    "for demo in demo_races:\n",
    "    for dt in demo_types:\n",
    "        demo_race_cases.append(dt + demo)\n",
    "\n",
    "race_dict[\"Black\"][\"cases\"] = 1\n",
    "# Cases\n",
    "# Deaths\n",
    "print(race_dict[\"Black\"][\"cases\"])"
   ]
  },
  {
   "cell_type": "code",
   "execution_count": 6,
   "metadata": {},
   "outputs": [
    {
     "output_type": "execute_result",
     "data": {
      "text/plain": [
       "['Cases_Black',\n",
       " 'Deaths_Black',\n",
       " 'Cases_White',\n",
       " 'Deaths_White',\n",
       " 'Cases_Latinx',\n",
       " 'Deaths_Latinx',\n",
       " 'Cases_Asian',\n",
       " 'Deaths_Asian',\n",
       " 'Cases_Multiracial',\n",
       " 'Deaths_Multiracial',\n",
       " 'Cases_Other',\n",
       " 'Deaths_Other']"
      ]
     },
     "metadata": {},
     "execution_count": 6
    }
   ],
   "source": [
    "demo_race_cases"
   ]
  },
  {
   "cell_type": "code",
   "execution_count": null,
   "metadata": {},
   "outputs": [],
   "source": []
  }
 ]
}