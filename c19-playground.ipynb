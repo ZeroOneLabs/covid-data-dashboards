{
 "metadata": {
  "language_info": {
   "codemirror_mode": {
    "name": "ipython",
    "version": 3
   },
   "file_extension": ".py",
   "mimetype": "text/x-python",
   "name": "python",
   "nbconvert_exporter": "python",
   "pygments_lexer": "ipython3",
   "version": "3.9.5"
  },
  "orig_nbformat": 2,
  "kernelspec": {
   "name": "python395jvsc74a57bd0aee8b7b246df8f9039afb4144a1f6fd8d2ca17a180786b69acc140d282b71a49",
   "display_name": "Python 3.9.5 64-bit"
  },
  "metadata": {
   "interpreter": {
    "hash": "aee8b7b246df8f9039afb4144a1f6fd8d2ca17a180786b69acc140d282b71a49"
   }
  }
 },
 "nbformat": 4,
 "nbformat_minor": 2,
 "cells": [
  {
   "cell_type": "code",
   "execution_count": 389,
   "metadata": {},
   "outputs": [],
   "source": [
    "import os\n",
    "import json"
   ]
  },
  {
   "cell_type": "code",
   "execution_count": 391,
   "metadata": {},
   "outputs": [],
   "source": [
    "with open(\"data/us-city-population-2019-v2.json\") as j:\n",
    "    jata = json.load(j)\n",
    "\n"
   ]
  },
  {
   "cell_type": "code",
   "execution_count": 400,
   "metadata": {
    "tags": []
   },
   "outputs": [
    {
     "output_type": "stream",
     "name": "stdout",
     "text": [
      "New York City\n{'total-deaths-by-demo': {'url': 'https://raw.githubusercontent.com/nychealth/coronavirus-data/master/totals/deaths-by-race-age.csv', 'type': 'csv'}, 'total-cases-by-poverty': {'url': 'https://raw.githubusercontent.com/nychealth/coronavirus-data/master/totals/antibody-by-poverty.csv', 'type': 'csv'}, 'deaths_by_conditions': {'url': 'https://raw.githubusercontent.com/nychealth/coronavirus-data/master/totals/deaths-by-underlying-conditions.csv', 'type': 'csv'}, 'latest-summary': {'url': 'https://raw.githubusercontent.com/nychealth/coronavirus-data/master/latest/now-summary.csv', 'type': 'csv'}}\n4\n\n\nChicago\n{'daily-by-demo': {'url': 'https://data.cityofchicago.org/resource/naz8-j4nc.json', 'type': 'json'}}\n1\n\n\n"
     ]
    }
   ],
   "source": [
    "count = 1\n",
    "for city in jata:\n",
    "    if \"urls\" in jata[city][\"resources\"]:\n",
    "        print(jata[city][\"city\"])\n",
    "        print(jata[city][\"resources\"][\"urls\"])\n",
    "        print(len(jata[city][\"resources\"][\"urls\"]))\n",
    "        print(\"\\n\")\n",
    "    count += 1\n",
    "    if count == 10:\n",
    "        break\n",
    "# for url in jata[\"0\"][\"resources\"][\"urls\"]:\n",
    "#     print(jata[\"0\"][\"resources\"][\"urls\"][url][\"url\"] + \"\\n\")"
   ]
  },
  {
   "cell_type": "code",
   "execution_count": 13,
   "metadata": {},
   "outputs": [],
   "source": [
    "import requests\n",
    "str1 = \"Salt Lake City\"\n",
    "str2 = \"Salt Lake\"\n",
    "\n",
    "theurl = \"https://raw.githubusercontent.com/CSSEGISandData/COVID-19/master/csse_covid_19_data/csse_covid_19_daily_reports/2021-05-30.csv\"\n",
    "\n",
    "\n"
   ]
  },
  {
   "cell_type": "code",
   "execution_count": 12,
   "metadata": {
    "tags": []
   },
   "outputs": [
    {
     "output_type": "execute_result",
     "data": {
      "text/plain": [
       "'05-27-2021'"
      ]
     },
     "metadata": {},
     "execution_count": 12
    }
   ],
   "source": []
  },
  {
   "cell_type": "code",
   "execution_count": null,
   "metadata": {},
   "outputs": [],
   "source": []
  }
 ]
}